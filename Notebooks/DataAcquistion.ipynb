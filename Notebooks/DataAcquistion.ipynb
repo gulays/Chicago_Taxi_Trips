{
 "cells": [
  {
   "cell_type": "code",
   "execution_count": 2,
   "id": "697c8cf8",
   "metadata": {},
   "outputs": [],
   "source": [
    "#!/usr/bin/env python\n",
    "\n"
   ]
  },
  {
   "cell_type": "code",
   "execution_count": 2,
   "id": "15a1d84f",
   "metadata": {},
   "outputs": [],
   "source": [
    "import pandas as pd\n",
    "import numpy as np\n",
    "\n",
    "#import pandas.io.sql as pd_sql\n",
    "from sodapy import Socrata\n",
    "#import requests \n",
    "#import sqlite3 as sq \n",
    "\n",
    "from sqlalchemy import create_engine\n",
    "import warnings\n",
    "warnings.filterwarnings('ignore')\n",
    "# import collect_data\n"
   ]
  },
  {
   "cell_type": "code",
   "execution_count": 117,
   "id": "89e727a3",
   "metadata": {},
   "outputs": [],
   "source": []
  },
  {
   "cell_type": "code",
   "execution_count": 202,
   "id": "b26dba62",
   "metadata": {},
   "outputs": [
    {
     "name": "stdout",
     "output_type": "stream",
     "text": [
      "3.8807883899229894 %\n",
      "7.761576779845979 %\n",
      "11.642365169768969 %\n",
      "15.523153559691957 %\n",
      "19.403941949614946 %\n",
      "23.284730339537937 %\n",
      "27.16551872946093 %\n",
      "31.046307119383915 %\n",
      "34.9270955093069 %\n",
      "38.80788389922989 %\n",
      "42.68867228915288 %\n",
      "46.569460679075874 %\n",
      "50.450249068998865 %\n",
      "54.33103745892186 %\n",
      "58.211825848844846 %\n",
      "62.09261423876783 %\n",
      "65.97340262869082 %\n",
      "69.8541910186138 %\n",
      "73.7349794085368 %\n",
      "77.61576779845979 %\n",
      "81.49655618838278 %\n",
      "85.37734457830577 %\n",
      "89.25813296822876 %\n",
      "93.13892135815175 %\n",
      "97.01970974807475 %\n"
     ]
    }
   ],
   "source": [
    "\n",
    "client = Socrata('data.cityofchicago.org','gz7GKwbVG8X0YFDvbgQXlOnrx')\n",
    "offset_temp = 0\n",
    "loop = True  \n",
    "while loop:\n",
    "    results = client.get('9kgb-ykyt', select=\"trip_id,trip_start_timestamp,trip_seconds,trip_miles,pickup_community_area,dropoff_community_area,fare,trip_total,payment_type,company,pickup_centroid_latitude,pickup_centroid_longitude,dropoff_centroid_latitude,dropoff_centroid_longitude\",\n",
    "                         limit=10000, offset=offset_temp)\n",
    "    trips_df_temp = pd.DataFrame.from_records(results)\n",
    "    # This loop stops when the next block of dataframe is empty\n",
    "    if trips_df_temp.empty == True:\n",
    "        loop = False\n",
    "            \n",
    "    trips_df_temp.dropna(axis=0, how=\"any\", thresh=None, subset=None, inplace=True) \n",
    "\n",
    "            \n",
    "            \n",
    "            \n",
    "    # Insert dataframe into TaxiTrips2.db\n",
    "    engine = create_engine('sqlite:///TaxiTrips.db')\n",
    "    trips_df_temp.to_sql(\"taxi_2021\", con=engine, if_exists=\"append\", index=False)   \n",
    "    offset_temp+=10000\n",
    "\n",
    "     # Shows the percentage of data \n",
    "    if offset_temp % 100000 == 0:\n",
    "        print(offset_temp/2576796*100,\"%\")\n",
    "    else:\n",
    "        continue\n",
    "            "
   ]
  },
  {
   "cell_type": "code",
   "execution_count": 130,
   "id": "fc331c41",
   "metadata": {},
   "outputs": [],
   "source": [
    "\n",
    "convert_dict = {'trip_seconds': 'float32', \n",
    "                'trip_miles': 'float32', \n",
    "                'dropoff_community_area': 'float32',\n",
    "                'fare': 'float32', \n",
    "                'trip_total': 'float32',\n",
    "                'dropoff_centroid_latitude': 'float32',\n",
    "                'dropoff_centroid_longitude': 'float32',\n",
    "                'pickup_community_area': 'float32',\n",
    "                'pickup_centroid_latitude': 'float32',\n",
    "                'pickup_centroid_longitude': 'float32'}\n",
    "  \n"
   ]
  },
  {
   "cell_type": "code",
   "execution_count": 322,
   "id": "002fc13e",
   "metadata": {},
   "outputs": [],
   "source": [
    "engine = create_engine('sqlite:///TaxiTrips.db')\n",
    "conn = engine.connect().execution_options(stream_results=True)\n",
    "    \n",
    "chunk_list = []\n",
    "for chunk_dataframe in pd.read_sql(\n",
    "            'SELECT * FROM taxi_2021 WHERE dropoff_community_area != \"None\" AND fare != \"None\" AND trip_total !=\"None\" AND payment_type != \"None\" AND company != \"None\" AND dropoff_centroid_latitude != \"None\" AND dropoff_centroid_longitude != \"None\" AND pickup_community_area != \"None\" AND pickup_centroid_latitude != \"None\" AND pickup_centroid_longitude != \"None\" AND trip_seconds!=0 and trip_miles !=0' , conn, chunksize=1000):\n",
    "    \n",
    "    \n",
    "    #print(f\"Got dataframe w/{len(chunk_dataframe)} rows\")\n",
    "        \n",
    "        \n",
    "   \n",
    "    chunk_list.append(chunk_dataframe)\n",
    "\n",
    "df_concat = pd.concat(chunk_list)    "
   ]
  },
  {
   "cell_type": "code",
   "execution_count": 323,
   "id": "8cd63455",
   "metadata": {},
   "outputs": [
    {
     "name": "stdout",
     "output_type": "stream",
     "text": [
      "<class 'pandas.core.frame.DataFrame'>\n",
      "Int64Index: 1843982 entries, 0 to 981\n",
      "Data columns (total 14 columns):\n",
      " #   Column                      Dtype \n",
      "---  ------                      ----- \n",
      " 0   trip_id                     object\n",
      " 1   trip_start_timestamp        object\n",
      " 2   trip_seconds                object\n",
      " 3   trip_miles                  object\n",
      " 4   dropoff_community_area      object\n",
      " 5   fare                        object\n",
      " 6   trip_total                  object\n",
      " 7   payment_type                object\n",
      " 8   company                     object\n",
      " 9   dropoff_centroid_latitude   object\n",
      " 10  dropoff_centroid_longitude  object\n",
      " 11  pickup_community_area       object\n",
      " 12  pickup_centroid_latitude    object\n",
      " 13  pickup_centroid_longitude   object\n",
      "dtypes: object(14)\n",
      "memory usage: 211.0+ MB\n"
     ]
    }
   ],
   "source": [
    "df =df_concat.copy()\n",
    "df.info()"
   ]
  },
  {
   "cell_type": "code",
   "execution_count": null,
   "id": "b9b0ebb7",
   "metadata": {},
   "outputs": [],
   "source": [
    "def reorg_col(df):\n",
    "    df = df.astype(convert_dict)\n",
    "    df['trip_start_timestamp'] = pd.to_datetime(df[\"trip_start_timestamp\"], format=\"%Y-%m-%dT%H:%M:%S.%f\")\n",
    "    df['trip_date'] =(df['trip_start_timestamp']).dt.date\n",
    "    df['trip_day'] = (df['trip_start_timestamp']).dt.dayofweek\n",
    "    df['trip_start_time'] =df['trip_start_timestamp'].dt.time\n",
    "    df['trip_month'] = df['trip_start_timestamp'].dt.month_name\n",
    "    df['trip_day_n']=df['trip_start_timestamp'].dt.day_name()\n",
    "    df['trip_timezone'] = np.digitize(df['trip_start_timestamp'].dt.hour, [0,5,10,16,20])\n",
    "    df=df.assign(timezone=pd.cut(df_full['trip_start_timestamp'].dt.hour,\n",
    "                            [0,6,12,18,23],\n",
    "                            labels=['Night','Morning','Afternoon','Evening'],\n",
    "                            include_lowest=True))\n",
    "    return df\n"
   ]
  },
  {
   "cell_type": "code",
   "execution_count": null,
   "id": "8727a079",
   "metadata": {},
   "outputs": [],
   "source": [
    "df= df.reorg_col(df)\n",
    "with open(\"trips_2021.pkl\", \"wb\") as f:\n",
    "    pkl.dump(df,f)"
   ]
  }
 ],
 "metadata": {
  "kernelspec": {
   "display_name": "Python 3 (ipykernel)",
   "language": "python",
   "name": "python3"
  },
  "language_info": {
   "codemirror_mode": {
    "name": "ipython",
    "version": 3
   },
   "file_extension": ".py",
   "mimetype": "text/x-python",
   "name": "python",
   "nbconvert_exporter": "python",
   "pygments_lexer": "ipython3",
   "version": "3.8.11"
  }
 },
 "nbformat": 4,
 "nbformat_minor": 5
}
